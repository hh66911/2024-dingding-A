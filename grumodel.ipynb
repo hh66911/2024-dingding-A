{
 "cells": [
  {
   "cell_type": "code",
   "execution_count": 1,
   "metadata": {},
   "outputs": [],
   "source": [
    "import torch\n",
    "from torch import nn\n",
    "from torch.utils.data import TensorDataset, DataLoader\n",
    "from torch.optim.lr_scheduler import ReduceLROnPlateau\n",
    "\n",
    "import numpy as np\n",
    "import pandas as pd\n",
    "\n",
    "import model_predict\n",
    "from sklearn.model_selection import train_test_split"
   ]
  },
  {
   "cell_type": "code",
   "execution_count": 2,
   "metadata": {},
   "outputs": [],
   "source": [
    "series, scaler = model_predict.read_data_series(scale=True)"
   ]
  },
  {
   "cell_type": "code",
   "execution_count": 3,
   "metadata": {},
   "outputs": [],
   "source": [
    "class GRUModel(nn.Module):\n",
    "    def __init__(self, input_size, hidden_size, num_layers, output_size):\n",
    "        super(GRUModel, self).__init__()\n",
    "        self.gru = nn.GRU(input_size, hidden_size,\n",
    "                          num_layers, batch_first=True)\n",
    "        self.fc = nn.Linear(hidden_size, output_size)\n",
    "        self.init_weights()\n",
    "\n",
    "    def forward(self, x):\n",
    "        out, _ = self.gru(x)\n",
    "        out = self.fc(out[:, -1, :])  # 使用最后一个时间步的输出\n",
    "        return out\n",
    "\n",
    "    def init_weights(self):\n",
    "        # 遍历参数，对参数进行初始化\n",
    "        for name, param in self.named_parameters():\n",
    "            if 'weight' in name:\n",
    "                nn.init.normal_(param, mean=0, std=0.1)  # 使用正态分布初始化权重\n",
    "            elif 'bias' in name:\n",
    "                nn.init.constant_(param, 0)  # 将偏置项初始化为零\n",
    "\n",
    "\n",
    "model_parameters = {\n",
    "    \"input_size\": 3, \"hidden_size\": 32, \"num_layers\": 1, \"output_size\": 1\n",
    "}"
   ]
  },
  {
   "cell_type": "code",
   "execution_count": 4,
   "metadata": {},
   "outputs": [
    {
     "name": "stdout",
     "output_type": "stream",
     "text": [
      "训练 GRUModel 模型\n",
      "结果保存到： GRUModel_best.pth\n",
      "Epoch [50/1000], Learn Rate: 1.0000e-03, Training Loss: 0.2077, Validation Loss: 0.0834\n",
      "Epoch [100/1000], Learn Rate: 1.0000e-03, Training Loss: 0.1581, Validation Loss: 0.1303\n",
      "Epoch [150/1000], Learn Rate: 1.0000e-03, Training Loss: 0.1477, Validation Loss: 0.1328\n",
      "Epoch [200/1000], Learn Rate: 1.0000e-03, Training Loss: 0.1341, Validation Loss: 0.1309\n",
      "Epoch [250/1000], Learn Rate: 1.0000e-03, Training Loss: 0.1155, Validation Loss: 0.1433\n",
      "Epoch [300/1000], Learn Rate: 5.0000e-04, Training Loss: 0.1021, Validation Loss: 0.1328\n",
      "Epoch [350/1000], Learn Rate: 5.0000e-04, Training Loss: 0.0948, Validation Loss: 0.1600\n",
      "Epoch [400/1000], Learn Rate: 5.0000e-04, Training Loss: 0.0849, Validation Loss: 0.1842\n",
      "Epoch [450/1000], Learn Rate: 5.0000e-04, Training Loss: 0.0752, Validation Loss: 0.2017\n",
      "Epoch [500/1000], Learn Rate: 5.0000e-04, Training Loss: 0.0671, Validation Loss: 0.2116\n",
      "Epoch [550/1000], Learn Rate: 5.0000e-04, Training Loss: 0.0561, Validation Loss: 0.2046\n",
      "Epoch [600/1000], Learn Rate: 5.0000e-04, Training Loss: 0.0492, Validation Loss: 0.1953\n",
      "Epoch [650/1000], Learn Rate: 2.5000e-04, Training Loss: 0.0417, Validation Loss: 0.1883\n",
      "Epoch [700/1000], Learn Rate: 2.5000e-04, Training Loss: 0.0380, Validation Loss: 0.1931\n",
      "Epoch [750/1000], Learn Rate: 2.5000e-04, Training Loss: 0.0346, Validation Loss: 0.1984\n",
      "Epoch [800/1000], Learn Rate: 2.5000e-04, Training Loss: 0.0311, Validation Loss: 0.2010\n",
      "Epoch [850/1000], Learn Rate: 2.5000e-04, Training Loss: 0.0278, Validation Loss: 0.1959\n",
      "Epoch [900/1000], Learn Rate: 2.5000e-04, Training Loss: 0.0247, Validation Loss: 0.1879\n",
      "Epoch [950/1000], Learn Rate: 1.2500e-04, Training Loss: 0.0223, Validation Loss: 0.1879\n",
      "Epoch [1000/1000], Learn Rate: 1.2500e-04, Training Loss: 0.0206, Validation Loss: 0.1869\n"
     ]
    }
   ],
   "source": [
    "model_predict.train_rnn_model(GRUModel, model_parameters, series)"
   ]
  },
  {
   "cell_type": "code",
   "execution_count": null,
   "metadata": {},
   "outputs": [],
   "source": []
  }
 ],
 "metadata": {
  "kernelspec": {
   "display_name": "Python 3",
   "language": "python",
   "name": "python3"
  },
  "language_info": {
   "codemirror_mode": {
    "name": "ipython",
    "version": 3
   },
   "file_extension": ".py",
   "mimetype": "text/x-python",
   "name": "python",
   "nbconvert_exporter": "python",
   "pygments_lexer": "ipython3",
   "version": "3.11.4"
  }
 },
 "nbformat": 4,
 "nbformat_minor": 2
}
