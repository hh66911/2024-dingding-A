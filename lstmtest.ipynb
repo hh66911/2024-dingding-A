{
 "cells": [
  {
   "cell_type": "code",
   "execution_count": 1,
   "metadata": {},
   "outputs": [],
   "source": [
    "import numpy as np\n",
    "import matplotlib.pyplot as plt\n",
    "import pandas as pd\n",
    "import torch\n",
    "import torch.nn as nn\n",
    "from torch.utils.data import TensorDataset, DataLoader\n",
    "from torch.optim.lr_scheduler import ReduceLROnPlateau\n",
    "\n",
    "import numpy as np\n",
    "import pandas as pd\n",
    "from sklearn.preprocessing import RobustScaler\n",
    "from matplotlib import pyplot as plt\n",
    "import pandas as pd\n",
    "from sklearn.model_selection import train_test_split\n",
    "from functools import partial\n",
    "\n",
    "# 指定支持中文的字体，例如SimHei或者Microsoft YaHei\n",
    "plt.rcParams[\"font.sans-serif\"] = [\"SimHei\"]\n",
    "plt.rcParams[\"axes.unicode_minus\"] = False  # 解决负号显示问题"
   ]
  },
  {
   "cell_type": "code",
   "execution_count": 2,
   "metadata": {},
   "outputs": [],
   "source": [
    "# 读取Excel文件\n",
    "df = pd.read_excel('A1.xlsx', usecols=['销量（箱）', '金额（元）'])\n",
    "# 去掉无数值的行\n",
    "df.dropna(inplace=True)\n",
    "# 将数据转换为NumPy数组\n",
    "data_array = df.values\n",
    "index = pd.date_range(start='2011-01', periods=data_array.shape[0], freq='M')\n",
    "df = pd.DataFrame(data_array, index=index, columns=['销量', '金额'])"
   ]
  },
  {
   "cell_type": "code",
   "execution_count": 71,
   "metadata": {},
   "outputs": [],
   "source": [
    "series = df.loc['2014-02':, '销量']\n",
    "data = series.values\n",
    "\n",
    "# 创建 MinMaxScaler 的实例\n",
    "scaler = RobustScaler()\n",
    "# 使用 fit_transform 方法来拟合数据并转换它\n",
    "normalized_data = scaler.fit_transform(data.reshape(-1, 1)).reshape(-1)\n",
    "\n",
    "normalized_series = pd.Series(normalized_data, index=series.index)"
   ]
  },
  {
   "cell_type": "code",
   "execution_count": 4,
   "metadata": {},
   "outputs": [],
   "source": [
    "# 将Series转换为DataFrame，并设置日期为索引  \n",
    "sales_df = normalized_series.reset_index()  \n",
    "sales_df.columns = ['date', 'sales']  \n",
    "sales_df['date'] = pd.to_datetime(sales_df['date'])\n",
    "# 确保数据按日期排序  \n",
    "sales_df = sales_df.sort_values('date')"
   ]
  },
  {
   "cell_type": "code",
   "execution_count": 5,
   "metadata": {},
   "outputs": [],
   "source": [
    "# 创建特征集和目标集\n",
    "future_length = 12\n",
    "# 使用前 feature_length 个月的销量作为特征，预测下一个月的销量\n",
    "features = []\n",
    "targets = []\n",
    "\n",
    "sales_df['year'] = (sales_df['date'].dt.year - 2014) / 5.\n",
    "sales_df['month'] = (sales_df['date'].dt.month - 1) / 6.\n",
    "\n",
    "for i in range(future_length, len(sales_df)):\n",
    "    # 获取销量特征\n",
    "    sales_features = sales_df['sales'].iloc[i-future_length:i].tolist()\n",
    "\n",
    "    # 获取年份和月份特征\n",
    "    year_features = sales_df['year'].iloc[i-future_length:i].tolist()\n",
    "    month_features = sales_df['month'].iloc[i-future_length:i].tolist()\n",
    "\n",
    "    # 将年份和月份添加到特征向量中\n",
    "    feature_vector = [sales_features, year_features, month_features]\n",
    "\n",
    "    # 添加到特征集中\n",
    "    features.append(feature_vector)\n",
    "\n",
    "    # 添加目标销量\n",
    "    targets.append(sales_df['sales'].iloc[i])\n",
    "\n",
    "# 将特征和目标转换为numpy数组\n",
    "features = torch.tensor(features, dtype=torch.float32)\n",
    "features = features.permute(0, 2, 1)\n",
    "targets = torch.tensor(targets, dtype=torch.float32)"
   ]
  },
  {
   "cell_type": "code",
   "execution_count": 6,
   "metadata": {},
   "outputs": [],
   "source": [
    "# 划分训练集和测试集\n",
    "X_train, X_test, y_train, y_test = train_test_split(\n",
    "    features, targets, test_size=12/features.shape[0])\n",
    "X_train, X_test, y_train, y_test = map(\n",
    "    lambda x: x.cuda(), (X_train, X_test, y_train, y_test))"
   ]
  },
  {
   "cell_type": "code",
   "execution_count": 7,
   "metadata": {},
   "outputs": [],
   "source": [
    "train_dataset = TensorDataset(X_train, y_train)\n",
    "train_dataloader = DataLoader(train_dataset, batch_size=12)\n",
    "test_dataset = TensorDataset(X_test, y_test)\n",
    "test_dataloader = DataLoader(test_dataset, batch_size=12)"
   ]
  },
  {
   "cell_type": "code",
   "execution_count": 8,
   "metadata": {},
   "outputs": [],
   "source": [
    "# 4.1 LSTM 模型\n",
    "class LSTMModel(nn.Module):\n",
    "    def __init__(self, input_size, hidden_size, num_layers, output_size):\n",
    "        super(LSTMModel, self).__init__()\n",
    "        self.lstm = nn.LSTM(input_size, hidden_size, num_layers, batch_first=True)\n",
    "        self.fc = nn.Linear(hidden_size, output_size)\n",
    "        self.init_weights()\n",
    "\n",
    "    def forward(self, x):\n",
    "        out, _ = self.lstm(x)\n",
    "        out = self.fc(out[:, -1, :])  # 使用最后一个时间步的输出\n",
    "        return out\n",
    "\n",
    "    def init_weights(self):\n",
    "        # 遍历 LSTM 层的参数，对参数进行初始化\n",
    "        for name, param in self.named_parameters():\n",
    "            if 'weight' in name:\n",
    "                nn.init.normal_(param, mean=0, std=0.1)  # 使用正态分布初始化权重\n",
    "            elif 'bias' in name:\n",
    "                nn.init.constant_(param, 0)  # 将偏置项初始化为零\n",
    "                \n",
    "model_parameters = {\n",
    "    \"input_size\": 3, \"hidden_size\": 32, \"num_layers\": 1, \"output_size\": 1\n",
    "}"
   ]
  },
  {
   "cell_type": "code",
   "execution_count": 2,
   "metadata": {},
   "outputs": [
    {
     "ename": "NameError",
     "evalue": "name 'LSTMModel' is not defined",
     "output_type": "error",
     "traceback": [
      "\u001b[1;31m---------------------------------------------------------------------------\u001b[0m",
      "\u001b[1;31mNameError\u001b[0m                                 Traceback (most recent call last)",
      "Cell \u001b[1;32mIn[2], line 2\u001b[0m\n\u001b[0;32m      1\u001b[0m \u001b[38;5;66;03m# 5.1 初始化模型、损失函数和优化器\u001b[39;00m\n\u001b[1;32m----> 2\u001b[0m model \u001b[38;5;241m=\u001b[39m \u001b[43mLSTMModel\u001b[49m(\u001b[38;5;241m*\u001b[39m\u001b[38;5;241m*\u001b[39mmodel_parameters)\n\u001b[0;32m      3\u001b[0m criterion \u001b[38;5;241m=\u001b[39m nn\u001b[38;5;241m.\u001b[39mMSELoss()\n\u001b[0;32m      4\u001b[0m optimizer \u001b[38;5;241m=\u001b[39m torch\u001b[38;5;241m.\u001b[39moptim\u001b[38;5;241m.\u001b[39mAdam(model\u001b[38;5;241m.\u001b[39mparameters(), lr\u001b[38;5;241m=\u001b[39m\u001b[38;5;241m1e-3\u001b[39m)\n",
      "\u001b[1;31mNameError\u001b[0m: name 'LSTMModel' is not defined"
     ]
    }
   ],
   "source": [
    "# 5.1 初始化模型、损失函数和优化器\n",
    "model = LSTMModel(**model_parameters)\n",
    "criterion = nn.MSELoss()\n",
    "optimizer = torch.optim.Adam(model.parameters(), lr=1e-3)\n",
    "scheduler = ReduceLROnPlateau(optimizer, mode='min', patience=10, factor=0.5)\n",
    "\n",
    "# 初始化最佳模型参数和最佳验证损失\n",
    "best_model_params = model.state_dict()\n",
    "best_val_loss = float('inf')"
   ]
  },
  {
   "cell_type": "code",
   "execution_count": 10,
   "metadata": {},
   "outputs": [
    {
     "name": "stdout",
     "output_type": "stream",
     "text": [
      "Epoch [50/1500], Learn Rate: 1.0000e-03, Training Loss: 0.3496, Validation Loss: 0.5981\n",
      "Epoch [100/1500], Learn Rate: 1.0000e-03, Training Loss: 0.1702, Validation Loss: 0.8048\n",
      "Epoch [150/1500], Learn Rate: 1.0000e-03, Training Loss: 0.0802, Validation Loss: 0.4177\n",
      "Epoch [200/1500], Learn Rate: 1.0000e-03, Training Loss: 0.0474, Validation Loss: 0.4478\n",
      "Epoch [250/1500], Learn Rate: 5.0000e-04, Training Loss: 0.0391, Validation Loss: 0.4280\n",
      "Epoch [300/1500], Learn Rate: 5.0000e-04, Training Loss: 0.0358, Validation Loss: 0.4196\n",
      "Epoch [350/1500], Learn Rate: 5.0000e-04, Training Loss: 0.0328, Validation Loss: 0.3906\n",
      "Epoch [400/1500], Learn Rate: 5.0000e-04, Training Loss: 0.0299, Validation Loss: 0.3608\n",
      "Epoch [450/1500], Learn Rate: 5.0000e-04, Training Loss: 0.0269, Validation Loss: 0.3374\n",
      "Epoch [500/1500], Learn Rate: 5.0000e-04, Training Loss: 0.0237, Validation Loss: 0.3241\n",
      "Epoch [550/1500], Learn Rate: 5.0000e-04, Training Loss: 0.0205, Validation Loss: 0.3201\n",
      "Epoch [600/1500], Learn Rate: 5.0000e-04, Training Loss: 0.0173, Validation Loss: 0.3117\n",
      "Epoch [650/1500], Learn Rate: 5.0000e-04, Training Loss: 0.0147, Validation Loss: 0.3041\n",
      "Epoch [700/1500], Learn Rate: 5.0000e-04, Training Loss: 0.0123, Validation Loss: 0.3064\n",
      "Epoch [750/1500], Learn Rate: 5.0000e-04, Training Loss: 0.0100, Validation Loss: 0.2985\n",
      "Epoch [800/1500], Learn Rate: 5.0000e-04, Training Loss: 0.0082, Validation Loss: 0.2909\n",
      "Epoch [850/1500], Learn Rate: 5.0000e-04, Training Loss: 0.0067, Validation Loss: 0.2870\n",
      "Epoch [900/1500], Learn Rate: 5.0000e-04, Training Loss: 0.0055, Validation Loss: 0.2873\n",
      "Epoch [950/1500], Learn Rate: 5.0000e-04, Training Loss: 0.0051, Validation Loss: 0.3022\n",
      "Epoch [1000/1500], Learn Rate: 5.0000e-04, Training Loss: 0.0039, Validation Loss: 0.2912\n",
      "Epoch [1050/1500], Learn Rate: 5.0000e-04, Training Loss: 0.0032, Validation Loss: 0.2942\n",
      "Epoch [1100/1500], Learn Rate: 5.0000e-04, Training Loss: 0.0026, Validation Loss: 0.2965\n",
      "Epoch [1150/1500], Learn Rate: 2.5000e-04, Training Loss: 0.0023, Validation Loss: 0.2898\n",
      "Epoch [1200/1500], Learn Rate: 2.5000e-04, Training Loss: 0.0020, Validation Loss: 0.2998\n",
      "Epoch [1250/1500], Learn Rate: 2.5000e-04, Training Loss: 0.0018, Validation Loss: 0.3013\n",
      "Epoch [1300/1500], Learn Rate: 2.5000e-04, Training Loss: 0.0016, Validation Loss: 0.3024\n",
      "Epoch [1350/1500], Learn Rate: 2.5000e-04, Training Loss: 0.0014, Validation Loss: 0.3038\n",
      "Epoch [1400/1500], Learn Rate: 2.5000e-04, Training Loss: 0.0012, Validation Loss: 0.3053\n",
      "Epoch [1450/1500], Learn Rate: 2.5000e-04, Training Loss: 0.0011, Validation Loss: 0.3071\n",
      "Epoch [1500/1500], Learn Rate: 2.5000e-04, Training Loss: 0.0009, Validation Loss: 0.3092\n"
     ]
    }
   ],
   "source": [
    "model.cuda()\n",
    "# 5.2 训练模型\n",
    "num_epochs = 1500\n",
    "train_loss_list = []\n",
    "val_loss_list = []\n",
    "for epoch in range(num_epochs):\n",
    "    train_loss = 0\n",
    "    for batch_input, batch_target in train_dataloader:\n",
    "        optimizer.zero_grad()\n",
    "        output = model(batch_input)\n",
    "        loss = criterion(output.squeeze(), batch_target)\n",
    "        train_loss += loss\n",
    "        loss.backward()\n",
    "        optimizer.step()\n",
    "    train_loss = train_loss/len(train_dataloader)\n",
    "    train_loss_list.append(train_loss.item())\n",
    "\n",
    "    scheduler.step(train_loss)\n",
    "\n",
    "    if (epoch + 1) % 50 == 0:\n",
    "        # 在验证集上计算损失并保存最佳模型\n",
    "        with torch.no_grad():\n",
    "            val_losses = []\n",
    "            for val_batch_input, val_batch_target in test_dataloader:\n",
    "                val_output = model(val_batch_input)\n",
    "                val_loss = criterion(val_output.squeeze(), val_batch_target)\n",
    "                val_losses.append(val_loss.item())\n",
    "            avg_val_loss = np.mean(val_losses)\n",
    "            val_loss_list.append(avg_val_loss)\n",
    "\n",
    "            if avg_val_loss < best_val_loss:\n",
    "                best_val_loss = avg_val_loss\n",
    "                best_model_params = model.state_dict()\n",
    "\n",
    "        print(f'Epoch [{epoch+1}/{num_epochs}], Learn Rate: {scheduler.get_last_lr()[0]:.4e}, ' +\n",
    "              f'Training Loss: {train_loss.item():.4f}, Validation Loss: {avg_val_loss:.4f}')\n",
    "\n",
    "torch.save(best_model_params, './best_model_LSTM.pth',\n",
    "           _use_new_zipfile_serialization=False)"
   ]
  },
  {
   "cell_type": "code",
   "execution_count": 40,
   "metadata": {},
   "outputs": [
    {
     "data": {
      "text/plain": [
       "LSTMModel(\n",
       "  (lstm): LSTM(3, 32, batch_first=True)\n",
       "  (fc): Linear(in_features=32, out_features=1, bias=True)\n",
       ")"
      ]
     },
     "execution_count": 40,
     "metadata": {},
     "output_type": "execute_result"
    }
   ],
   "source": [
    "# 6.1 加载模型\n",
    "model_lstm = LSTMModel(**model_parameters)\n",
    "model_lstm.load_state_dict(torch.load('./best_model_LSTM.pth'))\n",
    "model_lstm.eval()"
   ]
  },
  {
   "cell_type": "code",
   "execution_count": 76,
   "metadata": {},
   "outputs": [
    {
     "name": "stdout",
     "output_type": "stream",
     "text": [
      "从2019年9月开始后续数据推理\n",
      "tensor([[[-1.1208,  1.0000,  1.5000]]])\n",
      "tensor([[[-0.4209,  1.0000,  1.6667]]])\n",
      "tensor([[[0.0669, 1.0000, 1.8333]]])\n",
      "tensor([[[2.7959, 1.2000, 0.0000]]])\n",
      "tensor([[[-0.1484,  1.2000,  0.1667]]])\n",
      "tensor([[[0.2291, 1.2000, 0.3333]]])\n",
      "tensor([[[0.1019, 1.2000, 0.5000]]])\n",
      "tensor([[[-0.0140,  1.2000,  0.6667]]])\n",
      "tensor([[[0.5065, 1.2000, 0.8333]]])\n",
      "tensor([[[0.9027, 1.2000, 1.0000]]])\n",
      "tensor([[[0.0514, 1.2000, 1.1667]]])\n",
      "tensor([[[-0.5166,  1.2000,  1.3333]]])\n",
      "tensor([[[0.3018, 1.2000, 1.5000]]])\n",
      "tensor([[[-0.2018,  1.2000,  1.6667]]])\n",
      "tensor([[[0.1429, 1.2000, 1.8333]]])\n",
      "tensor([[[1.0018, 1.4000, 0.0000]]])\n",
      "tensor([[[2.4426, 1.4000, 0.1667]]])\n",
      "tensor([[[1.1360, 1.4000, 0.3333]]])\n",
      "tensor([[[0.4955, 1.4000, 0.5000]]])\n",
      "tensor([[[0.5960, 1.4000, 0.6667]]])\n",
      "tensor([[[0.8843, 1.4000, 0.8333]]])\n",
      "tensor([[[0.9742, 1.4000, 1.0000]]])\n",
      "tensor([[[0.0097, 1.4000, 1.1667]]])\n",
      "tensor([[[0.2967, 1.4000, 1.3333]]])\n",
      "MSE: 200.99\n",
      "MAE: 10.97\n",
      "R^2: 0.83\n",
      "MAPE: 0.23\n"
     ]
    },
    {
     "data": {
      "image/png": "[encoded data removed]",
      "text/plain": [
       "<Figure size 1000x600 with 1 Axes>"
      ]
     },
     "metadata": {},
     "output_type": "display_data"
    },
    {
     "data": {
      "text/plain": [
       "array([ 12.99242065,  37.62003523,  54.78497556, 150.81449369,\n",
       "        47.20900777,  60.49335648,  56.01851647,  51.93767128,\n",
       "        70.25557373,  84.19584081,  54.23905997,  34.25275456,\n",
       "        63.05182379,  45.33006889,  57.45954583,  87.68399071,\n",
       "       138.38277131,  92.4052589 ,  69.86647417,  73.40408421,\n",
       "        83.5487293 ,  86.71180809,  52.77366129,  62.87126031])"
      ]
     },
     "execution_count": 76,
     "metadata": {},
     "output_type": "execute_result"
    }
   ],
   "source": [
    "import model_predict\n",
    "import importlib\n",
    "importlib.reload(model_predict)\n",
    "model_predict.predict_to_future_lstm(model_lstm, series, 24, scaler)"
   ]
  }
 ],
 "metadata": {
  "kernelspec": {
   "display_name": "Python 3",
   "language": "python",
   "name": "python3"
  },
  "language_info": {
   "codemirror_mode": {
    "name": "ipython",
    "version": 3
   },
   "file_extension": ".py",
   "mimetype": "text/x-python",
   "name": "python",
   "nbconvert_exporter": "python",
   "pygments_lexer": "ipython3",
   "version": "3.11.4"
  }
 },
 "nbformat": 4,
 "nbformat_minor": 2
}
