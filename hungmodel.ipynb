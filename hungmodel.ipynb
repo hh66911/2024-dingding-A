{
 "cells": [
  {
   "cell_type": "code",
   "execution_count": 4,
   "metadata": {},
   "outputs": [],
   "source": [
    "import torch\n",
    "from torch import nn\n",
    "from torch.nn import functional as F\n",
    "\n",
    "import numpy as np\n",
    "import pandas as pd\n",
    "from matplotlib import pyplot as plt\n",
    "\n",
    "# 指定支持中文的字体，例如SimHei或者Microsoft YaHei\n",
    "plt.rcParams['font.sans-serif'] = ['SimHei']\n",
    "plt.rcParams['axes.unicode_minus'] = False  # 解决负号显示问题"
   ]
  },
  {
   "cell_type": "code",
   "execution_count": 5,
   "metadata": {},
   "outputs": [],
   "source": [
    "# 读取Excel文件\n",
    "df = pd.read_excel('A1.xlsx', usecols=['销量（箱）', '金额（元）'])\n",
    "# 去掉无数值的行\n",
    "df.dropna(inplace=True)\n",
    "# 将数据转换为NumPy数组\n",
    "data_array = df.values\n",
    "index = pd.date_range(start='2011-01', periods=data_array.shape[0], freq='M')\n",
    "df = pd.DataFrame(data_array, index=index, columns=['销量', '金额'])"
   ]
  },
  {
   "cell_type": "code",
   "execution_count": 7,
   "metadata": {},
   "outputs": [
    {
     "data": {
      "text/plain": [
       "(array([ 3.,  6., 29., 22., 15., 17.,  8.,  4.,  5.,  1.,  1.,  1.,  1.,\n",
       "         0.,  0.,  2.,  0.,  0.,  1.,  1.]),\n",
       " array([4.000000e-02, 1.684880e+01, 3.365760e+01, 5.046640e+01,\n",
       "        6.727520e+01, 8.408400e+01, 1.008928e+02, 1.177016e+02,\n",
       "        1.345104e+02, 1.513192e+02, 1.681280e+02, 1.849368e+02,\n",
       "        2.017456e+02, 2.185544e+02, 2.353632e+02, 2.521720e+02,\n",
       "        2.689808e+02, 2.857896e+02, 3.025984e+02, 3.194072e+02,\n",
       "        3.362160e+02]),\n",
       " <BarContainer object of 20 artists>)"
      ]
     },
     "execution_count": 7,
     "metadata": {},
     "output_type": "execute_result"
    },
    {
     "data": {
      "image/png": "[encoded data removed]",
      "text/plain": [
       "<Figure size 640x480 with 1 Axes>"
      ]
     },
     "metadata": {},
     "output_type": "display_data"
    }
   ],
   "source": [
    "data = data_array[:, 0]\n",
    "plt.hist(data, bins=20, color='steelblue', edgecolor='black', alpha=0.7)"
   ]
  },
  {
   "cell_type": "code",
   "execution_count": null,
   "metadata": {},
   "outputs": [],
   "source": [
    "series = df.loc['2014-02':, '销量']\n",
    "data = series.values"
   ]
  },
  {
   "cell_type": "code",
   "execution_count": null,
   "metadata": {},
   "outputs": [],
   "source": [
    "class MyModel(nn.Module):\n",
    "\tdef __init__(self):\n",
    "\t\tsuper(MyModel, self).__init__()\n",
    "\n",
    "\tdef forward(self, x):"
   ]
  },
  {
   "cell_type": "code",
   "execution_count": null,
   "metadata": {},
   "outputs": [],
   "source": []
  }
 ],
 "metadata": {
  "kernelspec": {
   "display_name": "Python 3",
   "language": "python",
   "name": "python3"
  },
  "language_info": {
   "codemirror_mode": {
    "name": "ipython",
    "version": 3
   },
   "file_extension": ".py",
   "mimetype": "text/x-python",
   "name": "python",
   "nbconvert_exporter": "python",
   "pygments_lexer": "ipython3",
   "version": "3.11.4"
  }
 },
 "nbformat": 4,
 "nbformat_minor": 2
}
