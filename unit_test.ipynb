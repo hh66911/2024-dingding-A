{
 "cells": [
  {
   "cell_type": "code",
   "execution_count": 1,
   "metadata": {},
   "outputs": [
    {
     "name": "stdout",
     "output_type": "stream",
     "text": [
      "小助手已加载\n",
      "小助手已加载\n"
     ]
    }
   ],
   "source": [
    "import numpy as np\n",
    "import matplotlib.pyplot as plt\n",
    "import pandas as pd\n",
    "import torch\n",
    "import torch.nn as nn\n",
    "from torch.utils.data import TensorDataset, DataLoader\n",
    "from torch.optim.lr_scheduler import ReduceLROnPlateau\n",
    "\n",
    "import numpy as np\n",
    "import pandas as pd\n",
    "from sklearn.preprocessing import RobustScaler\n",
    "from matplotlib import pyplot as plt\n",
    "import pandas as pd\n",
    "from sklearn.model_selection import train_test_split\n",
    "from functools import partial\n",
    "\n",
    "# 指定支持中文的字体，例如SimHei或者Microsoft YaHei\n",
    "plt.rcParams[\"font.sans-serif\"] = [\"SimHei\"]\n",
    "plt.rcParams[\"axes.unicode_minus\"] = False  # 解决负号显示问题\n",
    "\n",
    "import pandas as pd\n",
    "from importlib import reload\n",
    "import model_predict\n",
    "reload(model_predict)\n",
    "from matplotlib import pyplot as plt"
   ]
  },
  {
   "cell_type": "code",
   "execution_count": 2,
   "metadata": {},
   "outputs": [
    {
     "name": "stdout",
     "output_type": "stream",
     "text": [
      "小助手已加载\n",
      "2014-01-31    7.995596\n",
      "2014-02-28    1.093157\n",
      "2014-03-31    0.429088\n",
      "2014-04-30    1.185524\n",
      "2014-05-31    1.255985\n",
      "                ...   \n",
      "2020-05-31   -0.181233\n",
      "2020-06-30   -0.107159\n",
      "2020-07-31    1.218835\n",
      "2020-08-31   -0.513550\n",
      "2020-09-30    0.192977\n",
      "Freq: M, Length: 81, dtype: float64\n",
      "[336.216  91.704  68.18   94.976  97.472 139.784  97.564  83.052  81.984\n",
      "  73.792  80.176  93.884 143.412  83.02   63.436  72.752  79.684  86.476\n",
      "  67.456  60.572  65.744  54.064  53.736  60.772  88.412  40.528  43.364\n",
      "  47.536  50.44   52.98   49.824  53.48   53.168  38.156  44.22   44.916\n",
      "  90.136  23.956  37.2    37.556  44.076  45.868  45.092  51.684  50.42\n",
      "  43.132  51.168  46.104 108.316  47.248  25.28   31.292  37.892  42.412\n",
      "  45.26   60.636  55.308  54.16   51.884   4.32  138.908  22.224  39.54\n",
      "  41.256  46.724  47.94   54.824  83.42   50.736  19.788  32.964  53.42\n",
      " 150.572  47.176  84.312  44.752  46.56   49.184  96.156  34.788  59.816]\n"
     ]
    }
   ],
   "source": [
    "import model_predict\n",
    "reload(model_predict)\n",
    "series, scaler = model_predict.read_data_series()\n",
    "print(series)\n",
    "print(scaler.inverse_transform(series.values.reshape(-1, 1)).reshape(-1))"
   ]
  },
  {
   "cell_type": "code",
   "execution_count": 5,
   "metadata": {},
   "outputs": [
    {
     "name": "stdout",
     "output_type": "stream",
     "text": [
      "小助手已加载\n",
      "Final Progress: Pending Pending Pending Pending Pending Pending Pending Pending\n"
     ]
    }
   ],
   "source": [
    "import model_predict\n",
    "reload(model_predict)\n",
    "model_predict.find_best_param(series, (1, 0, 1, 12))"
   ]
  },
  {
   "cell_type": "code",
   "execution_count": 9,
   "metadata": {},
   "outputs": [
    {
     "name": "stdout",
     "output_type": "stream",
     "text": [
      "时间序列不连贯，缺失的月份： PeriodIndex(['2018-09', '2018-10', '2018-11', '2018-12', '2019-01', '2019-02',\n",
      "             '2019-03', '2019-04', '2019-05', '2019-06', '2019-07', '2019-08',\n",
      "             '2019-09', '2019-10', '2019-11', '2019-12', '2020-01', '2020-02',\n",
      "             '2020-03', '2020-04', '2020-05', '2020-06', '2020-07', '2020-08',\n",
      "             '2020-09', '2020-10', '2020-11', '2020-12', '2021-01', '2021-02',\n",
      "             '2021-03', '2021-04', '2021-05', '2021-06', '2021-07', '2021-08',\n",
      "             '2021-09', '2021-10', '2021-11', '2021-12', '2022-01', '2022-02',\n",
      "             '2022-03', '2022-04', '2022-05', '2022-06', '2022-07', '2022-08',\n",
      "             '2022-09', '2022-10', '2022-11', '2022-12'],\n",
      "            dtype='period[M]')\n"
     ]
    },
    {
     "data": {
      "text/plain": [
       "(2014-01-31    8.874471\n",
       " 2014-02-28   -1.650123\n",
       " 2014-03-31   -1.130707\n",
       " 2014-04-30    0.236598\n",
       " 2014-05-31    1.411126\n",
       " 2014-06-30    0.401149\n",
       " 2014-07-31    0.000000\n",
       " 2014-08-31    0.289891\n",
       " 2014-09-30    0.294121\n",
       " 2014-10-31   -0.459494\n",
       " 2014-11-30    0.173455\n",
       " 2014-12-31   -0.722864\n",
       " 2015-01-31    3.884006\n",
       " 2015-02-28    1.409484\n",
       " 2015-03-31    0.800657\n",
       " 2015-04-30    0.509124\n",
       " 2015-05-31    0.145040\n",
       " 2015-06-30    0.994949\n",
       " 2015-07-31    0.178695\n",
       " 2015-08-31   -0.186210\n",
       " 2015-09-30    0.380817\n",
       " 2015-10-31   -0.567721\n",
       " 2015-11-30   -0.424449\n",
       " 2015-12-31   -0.140873\n",
       " 2016-01-31    3.560839\n",
       " 2016-02-29   -0.229400\n",
       " 2016-03-31   -0.063080\n",
       " 2016-04-30   -0.203763\n",
       " 2016-05-31   -0.141188\n",
       " 2016-06-30    0.188230\n",
       " 2016-07-31    0.146366\n",
       " 2016-08-31    0.408979\n",
       " 2016-09-30    0.527751\n",
       " 2016-10-31   -1.074888\n",
       " 2016-11-30   -0.344636\n",
       " 2016-12-31   -1.061060\n",
       " 2017-01-31    5.016291\n",
       " 2017-02-28   -1.284966\n",
       " 2017-03-31   -0.664962\n",
       " 2017-04-30   -0.866705\n",
       " 2017-05-31   -0.514176\n",
       " 2017-06-30   -0.492960\n",
       " 2017-07-31   -0.575677\n",
       " 2017-08-31    0.220433\n",
       " 2017-09-30    0.569805\n",
       " 2017-10-31   -0.137715\n",
       " 2017-11-30   -0.394898\n",
       " 2017-12-31   -2.415167\n",
       " 2018-01-31    5.428175\n",
       " 2018-02-28    0.044832\n",
       " 2018-03-31   -1.192461\n",
       " 2018-04-30   -1.398055\n",
       " 2018-05-31   -0.602134\n",
       " 2018-06-30   -0.327019\n",
       " 2018-07-31    0.195555\n",
       " 2018-08-31    0.535960\n",
       " 2018-09-30    7.988508\n",
       " 2018-10-31   -0.819284\n",
       " 2018-11-30    0.877944\n",
       " Freq: M, dtype: float64,\n",
       " RobustScaler())"
      ]
     },
     "execution_count": 9,
     "metadata": {},
     "output_type": "execute_result"
    }
   ],
   "source": [
    "import model_predict\n",
    "from importlib import reload\n",
    "reload(model_predict)\n",
    "\n",
    "model_predict.read_data_series(file_index=5)"
   ]
  }
 ],
 "metadata": {
  "kernelspec": {
   "display_name": "Python 3",
   "language": "python",
   "name": "python3"
  },
  "language_info": {
   "codemirror_mode": {
    "name": "ipython",
    "version": 3
   },
   "file_extension": ".py",
   "mimetype": "text/x-python",
   "name": "python",
   "nbconvert_exporter": "python",
   "pygments_lexer": "ipython3",
   "version": "3.11.4"
  }
 },
 "nbformat": 4,
 "nbformat_minor": 2
}
