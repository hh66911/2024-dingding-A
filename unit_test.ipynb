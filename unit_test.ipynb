{
 "cells": [
  {
   "cell_type": "code",
   "execution_count": 1,
   "metadata": {},
   "outputs": [],
   "source": [
    "import numpy as np\n",
    "import matplotlib.pyplot as plt\n",
    "import pandas as pd\n",
    "import torch\n",
    "import torch.nn as nn\n",
    "from torch.utils.data import TensorDataset, DataLoader\n",
    "from torch.optim.lr_scheduler import ReduceLROnPlateau\n",
    "\n",
    "import numpy as np\n",
    "import pandas as pd\n",
    "from sklearn.preprocessing import RobustScaler\n",
    "from matplotlib import pyplot as plt\n",
    "import pandas as pd\n",
    "from sklearn.model_selection import train_test_split\n",
    "from functools import partial\n",
    "\n",
    "# 指定支持中文的字体，例如SimHei或者Microsoft YaHei\n",
    "plt.rcParams[\"font.sans-serif\"] = [\"SimHei\"]\n",
    "plt.rcParams[\"axes.unicode_minus\"] = False  # 解决负号显示问题\n",
    "\n",
    "import pandas as pd\n",
    "from importlib import reload\n",
    "import model_predict\n",
    "reload(model_predict)\n",
    "from matplotlib import pyplot as plt"
   ]
  },
  {
   "cell_type": "code",
   "execution_count": 14,
   "metadata": {},
   "outputs": [
    {
     "name": "stdout",
     "output_type": "stream",
     "text": [
      "2014-01-31    7.995596\n",
      "2014-02-28    1.093157\n",
      "2014-03-31    0.429088\n",
      "2014-04-30    1.185524\n",
      "2014-05-31    1.255985\n",
      "                ...   \n",
      "2020-05-31   -0.181233\n",
      "2020-06-30   -0.107159\n",
      "2020-07-31    1.218835\n",
      "2020-08-31   -0.513550\n",
      "2020-09-30    0.192977\n",
      "Freq: M, Length: 81, dtype: float64\n",
      "[336.216  91.704  68.18   94.976  97.472 139.784  97.564  83.052  81.984\n",
      "  73.792  80.176  93.884 143.412  83.02   63.436  72.752  79.684  86.476\n",
      "  67.456  60.572  65.744  54.064  53.736  60.772  88.412  40.528  43.364\n",
      "  47.536  50.44   52.98   49.824  53.48   53.168  38.156  44.22   44.916\n",
      "  90.136  23.956  37.2    37.556  44.076  45.868  45.092  51.684  50.42\n",
      "  43.132  51.168  46.104 108.316  47.248  25.28   31.292  37.892  42.412\n",
      "  45.26   60.636  55.308  54.16   51.884   4.32  138.908  22.224  39.54\n",
      "  41.256  46.724  47.94   54.824  83.42   50.736  19.788  32.964  53.42\n",
      " 150.572  47.176  84.312  44.752  46.56   49.184  96.156  34.788  59.816]\n"
     ]
    }
   ],
   "source": [
    "import model_predict\n",
    "reload(model_predict)\n",
    "series, scaler = model_predict.read_data_series()\n",
    "print(series)\n",
    "print(scaler.inverse_transform(series.values.reshape(-1, 1)).reshape(-1))"
   ]
  }
 ],
 "metadata": {
  "kernelspec": {
   "display_name": "Python 3",
   "language": "python",
   "name": "python3"
  },
  "language_info": {
   "codemirror_mode": {
    "name": "ipython",
    "version": 3
   },
   "file_extension": ".py",
   "mimetype": "text/x-python",
   "name": "python",
   "nbconvert_exporter": "python",
   "pygments_lexer": "ipython3",
   "version": "3.11.4"
  }
 },
 "nbformat": 4,
 "nbformat_minor": 2
}
